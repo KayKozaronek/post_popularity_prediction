{
 "metadata": {
  "language_info": {
   "codemirror_mode": {
    "name": "ipython",
    "version": 3
   },
   "file_extension": ".py",
   "mimetype": "text/x-python",
   "name": "python",
   "nbconvert_exporter": "python",
   "pygments_lexer": "ipython3",
   "version": "3.8.5-final"
  },
  "orig_nbformat": 2,
  "kernelspec": {
   "name": "python3",
   "display_name": "Python 3",
   "language": "python"
  }
 },
 "nbformat": 4,
 "nbformat_minor": 2,
 "cells": [
  {
   "cell_type": "code",
   "execution_count": 1,
   "metadata": {},
   "outputs": [],
   "source": [
    "import pandas as pd"
   ]
  },
  {
   "cell_type": "code",
   "execution_count": 2,
   "metadata": {},
   "outputs": [
    {
     "output_type": "execute_result",
     "data": {
      "text/plain": [
       "                by  descendants        id  \\\n",
       "0          mtlynch          374  22201337   \n",
       "1         vo2maxer            0  22201335   \n",
       "2  CapitalistCartr            0  22201331   \n",
       "\n",
       "                                                kids  score        time  \\\n",
       "0  [22202301, 22204564, 22201343, 22202241, 22201...   1066  1580476160   \n",
       "1                                                NaN      2  1580476155   \n",
       "2                                                NaN      3  1580476096   \n",
       "\n",
       "                                               title   type  \\\n",
       "0                 My Second Year as a Solo Developer  story   \n",
       "1  The STORY about the ‘business as usual’ story ...  story   \n",
       "2  Students find website data leaks pose greater ...  story   \n",
       "\n",
       "                                                 url  \n",
       "0          https://mtlynch.io/solo-developer-year-2/  \n",
       "1  https://michaelmann.net/content/story-about-%E...  \n",
       "2  https://www.seas.harvard.edu/news/2020/01/impe...  "
      ],
      "text/html": "<div>\n<style scoped>\n    .dataframe tbody tr th:only-of-type {\n        vertical-align: middle;\n    }\n\n    .dataframe tbody tr th {\n        vertical-align: top;\n    }\n\n    .dataframe thead th {\n        text-align: right;\n    }\n</style>\n<table border=\"1\" class=\"dataframe\">\n  <thead>\n    <tr style=\"text-align: right;\">\n      <th></th>\n      <th>by</th>\n      <th>descendants</th>\n      <th>id</th>\n      <th>kids</th>\n      <th>score</th>\n      <th>time</th>\n      <th>title</th>\n      <th>type</th>\n      <th>url</th>\n    </tr>\n  </thead>\n  <tbody>\n    <tr>\n      <th>0</th>\n      <td>mtlynch</td>\n      <td>374</td>\n      <td>22201337</td>\n      <td>[22202301, 22204564, 22201343, 22202241, 22201...</td>\n      <td>1066</td>\n      <td>1580476160</td>\n      <td>My Second Year as a Solo Developer</td>\n      <td>story</td>\n      <td>https://mtlynch.io/solo-developer-year-2/</td>\n    </tr>\n    <tr>\n      <th>1</th>\n      <td>vo2maxer</td>\n      <td>0</td>\n      <td>22201335</td>\n      <td>NaN</td>\n      <td>2</td>\n      <td>1580476155</td>\n      <td>The STORY about the ‘business as usual’ story ...</td>\n      <td>story</td>\n      <td>https://michaelmann.net/content/story-about-%E...</td>\n    </tr>\n    <tr>\n      <th>2</th>\n      <td>CapitalistCartr</td>\n      <td>0</td>\n      <td>22201331</td>\n      <td>NaN</td>\n      <td>3</td>\n      <td>1580476096</td>\n      <td>Students find website data leaks pose greater ...</td>\n      <td>story</td>\n      <td>https://www.seas.harvard.edu/news/2020/01/impe...</td>\n    </tr>\n  </tbody>\n</table>\n</div>"
     },
     "metadata": {},
     "execution_count": 2
    }
   ],
   "source": [
    "df = pd.read_csv(\"stories.csv\")\n",
    "df.head()"
   ]
  },
  {
   "cell_type": "code",
   "execution_count": null,
   "metadata": {},
   "outputs": [],
   "source": []
  }
 ]
}